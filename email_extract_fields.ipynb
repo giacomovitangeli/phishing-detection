{
 "cells": [
  {
   "cell_type": "code",
   "execution_count": 3,
   "metadata": {},
   "outputs": [],
   "source": [
    "import numpy as np\n",
    "import pandas as pd\n",
    "import os, gc, re"
   ]
  },
  {
   "cell_type": "code",
   "execution_count": 4,
   "metadata": {},
   "outputs": [
    {
     "data": {
      "text/html": [
       "<div>\n",
       "<style scoped>\n",
       "    .dataframe tbody tr th:only-of-type {\n",
       "        vertical-align: middle;\n",
       "    }\n",
       "\n",
       "    .dataframe tbody tr th {\n",
       "        vertical-align: top;\n",
       "    }\n",
       "\n",
       "    .dataframe thead th {\n",
       "        text-align: right;\n",
       "    }\n",
       "</style>\n",
       "<table border=\"1\" class=\"dataframe\">\n",
       "  <thead>\n",
       "    <tr style=\"text-align: right;\">\n",
       "      <th></th>\n",
       "      <th>file</th>\n",
       "      <th>message</th>\n",
       "    </tr>\n",
       "  </thead>\n",
       "  <tbody>\n",
       "    <tr>\n",
       "      <th>0</th>\n",
       "      <td>allen-p/_sent_mail/1.</td>\n",
       "      <td>Message-ID: &lt;18782981.1075855378110.JavaMail.e...</td>\n",
       "    </tr>\n",
       "    <tr>\n",
       "      <th>1</th>\n",
       "      <td>allen-p/_sent_mail/10.</td>\n",
       "      <td>Message-ID: &lt;15464986.1075855378456.JavaMail.e...</td>\n",
       "    </tr>\n",
       "    <tr>\n",
       "      <th>2</th>\n",
       "      <td>allen-p/_sent_mail/100.</td>\n",
       "      <td>Message-ID: &lt;24216240.1075855687451.JavaMail.e...</td>\n",
       "    </tr>\n",
       "    <tr>\n",
       "      <th>3</th>\n",
       "      <td>allen-p/_sent_mail/1000.</td>\n",
       "      <td>Message-ID: &lt;13505866.1075863688222.JavaMail.e...</td>\n",
       "    </tr>\n",
       "    <tr>\n",
       "      <th>4</th>\n",
       "      <td>allen-p/_sent_mail/1001.</td>\n",
       "      <td>Message-ID: &lt;30922949.1075863688243.JavaMail.e...</td>\n",
       "    </tr>\n",
       "  </tbody>\n",
       "</table>\n",
       "</div>"
      ],
      "text/plain": [
       "                       file                                            message\n",
       "0     allen-p/_sent_mail/1.  Message-ID: <18782981.1075855378110.JavaMail.e...\n",
       "1    allen-p/_sent_mail/10.  Message-ID: <15464986.1075855378456.JavaMail.e...\n",
       "2   allen-p/_sent_mail/100.  Message-ID: <24216240.1075855687451.JavaMail.e...\n",
       "3  allen-p/_sent_mail/1000.  Message-ID: <13505866.1075863688222.JavaMail.e...\n",
       "4  allen-p/_sent_mail/1001.  Message-ID: <30922949.1075863688243.JavaMail.e..."
      ]
     },
     "execution_count": 4,
     "metadata": {},
     "output_type": "execute_result"
    }
   ],
   "source": [
    "emails_df = pd.read_csv(r'emails.csv')\n",
    "emails_df.head()"
   ]
  },
  {
   "cell_type": "code",
   "execution_count": 5,
   "metadata": {},
   "outputs": [
    {
     "name": "stdout",
     "output_type": "stream",
     "text": [
      "<class 'pandas.core.frame.DataFrame'>\n",
      "RangeIndex: 517401 entries, 0 to 517400\n",
      "Data columns (total 2 columns):\n",
      " #   Column   Non-Null Count   Dtype \n",
      "---  ------   --------------   ----- \n",
      " 0   file     517401 non-null  object\n",
      " 1   message  517401 non-null  object\n",
      "dtypes: object(2)\n",
      "memory usage: 7.9+ MB\n"
     ]
    }
   ],
   "source": [
    "emails_df.info()"
   ]
  },
  {
   "cell_type": "code",
   "execution_count": 6,
   "metadata": {},
   "outputs": [
    {
     "name": "stdout",
     "output_type": "stream",
     "text": [
      "Message-ID: <26575732.1075855687756.JavaMail.evans@thyme>\n",
      "Date: Mon, 2 Oct 2000 02:19:00 -0700 (PDT)\n",
      "From: phillip.allen@enron.com\n",
      "To: bs_stone@yahoo.com\n",
      "Subject: Re: Original Sept check/closing\n",
      "Mime-Version: 1.0\n",
      "Content-Type: text/plain; charset=us-ascii\n",
      "Content-Transfer-Encoding: 7bit\n",
      "X-From: Phillip K Allen\n",
      "X-To: \"BS Stone\" <bs_stone@yahoo.com> @ ENRON\n",
      "X-cc: \n",
      "X-bcc: \n",
      "X-Folder: \\Phillip_Allen_Dec2000\\Notes Folders\\'sent mail\n",
      "X-Origin: Allen-P\n",
      "X-FileName: pallen.nsf\n",
      "\n",
      "Brenda,\n",
      "\n",
      " Please use the second check as my October payment.  I have my copy of the \n",
      "original deal.  Do you want me to fax this to you?\n",
      "\n",
      "Phillip\n"
     ]
    }
   ],
   "source": [
    "print(emails_df.iloc[22,1])"
   ]
  },
  {
   "cell_type": "code",
   "execution_count": 7,
   "metadata": {},
   "outputs": [],
   "source": [
    "# split info\n",
    "def info_part(i):\n",
    "    return i.split('\\n\\n', 1)[0]\n",
    "\n",
    "# split content\n",
    "def content_part(i):\n",
    "    return i.split('\\n\\n', 1)[1]\n",
    "\n",
    "emails_df['pre_info'] = emails_df.message.map(info_part)\n",
    "emails_df['content'] = emails_df.message.map(content_part)\n",
    "emails_df['test_true'] = True\n",
    "\n",
    "words2split = ['Message-ID: ', 'Date: ', 'From: ', 'To: ', 'Subject: ', 'Cc: ', 'Mime-Version: ', 'Content-Type: ',\n",
    "               'Content-Transfer-Encoding: ', 'Bcc: ', 'X-From: ', 'X-To: ', 'X-cc: ', 'X-bcc: ', 'X-Folder: ', 'X-Origin: ',\n",
    "               'X-FileName: ']\n",
    "features_naming = [i[:-2] for i in words2split]\n",
    "split_condition = '|'.join(words2split)"
   ]
  },
  {
   "cell_type": "code",
   "execution_count": 8,
   "metadata": {},
   "outputs": [],
   "source": [
    "# emails subject confuse the string-spliting function<\n",
    "def duplicated_info(i):\n",
    "    return i.replace(' Date: ', ' Date- ').replace(' Subject: ', ' Subject2: ').replace(' To: ',\n",
    "                    ' To- ').replace(' (Subject: ', ' (Subject- ')\n",
    "emails_df['pre_info'] = emails_df['pre_info'].map(duplicated_info)\n",
    "\n",
    "# let's check how many categories are there in these emails\n",
    "def num_part(i):\n",
    "    return len(re.split(split_condition, i))\n",
    "emails_df['num_info'] = emails_df['pre_info'].map(num_part)\n",
    "\n",
    "# around 20k emails do not have the 'To: ' category, so I add one\n",
    "def add_to(i):\n",
    "    return i.replace('\\nSubject: ', '\\nTo: \\nSubject: ')\n",
    "temp_condition = (emails_df['num_info'] == 17) | (emails_df['num_info'] == 15)\n",
    "emails_df.loc[temp_condition, 'pre_info'] = emails_df.loc[temp_condition, 'pre_info'].map(add_to)\n",
    "\n",
    "# similar way to deal with the \"Cc:\" and \"Bcc:\" categories\n",
    "temp_condition = (emails_df['num_info'] == 16) | (emails_df['num_info'] == 15)\n",
    "\n",
    "def add_bcc(i):\n",
    "    return i.replace('\\nX-From: ', '\\nBcc: \\nX-From: ')\n",
    "\n",
    "emails_df.loc[temp_condition, 'pre_info'] = emails_df.loc[temp_condition, 'pre_info'].map(add_bcc)\n",
    "\n",
    "def add_cc(i):\n",
    "    return i.replace('\\nMime-Version: ', '\\nCc: \\nMime-Version: ')\n",
    "\n",
    "emails_df.loc[temp_condition, 'pre_info'] = emails_df.loc[temp_condition, 'pre_info'].map(add_cc)"
   ]
  },
  {
   "cell_type": "code",
   "execution_count": 9,
   "metadata": {},
   "outputs": [
    {
     "data": {
      "text/plain": [
       "18    517398\n",
       "5          2\n",
       "6          1\n",
       "Name: num_info, dtype: int64"
      ]
     },
     "execution_count": 9,
     "metadata": {},
     "output_type": "execute_result"
    }
   ],
   "source": [
    "emails_df['num_info'] = emails_df['pre_info'].map(num_part)\n",
    "emails_df['num_info'].value_counts()"
   ]
  },
  {
   "cell_type": "code",
   "execution_count": 10,
   "metadata": {},
   "outputs": [],
   "source": [
    "df_remove = emails_df.loc[emails_df['num_info'] != 18].copy()\n",
    "emails_df = emails_df.loc[emails_df['num_info'] == 18].copy()"
   ]
  },
  {
   "cell_type": "code",
   "execution_count": 11,
   "metadata": {},
   "outputs": [],
   "source": [
    "global feature_idx\n",
    "\n",
    "# split the i th part out and remove \\n for the feature\n",
    "def info_split(i):\n",
    "    return re.split(split_condition, i)[feature_idx+1][:-2]\n",
    "\n",
    "# no need to remove \\n for last category -- X-FileName\n",
    "def info_split_last(i):\n",
    "    return re.split(split_condition, i)[feature_idx+1]\n",
    "    \n",
    "for feature_idx in range(len(words2split)):\n",
    "    if feature_idx != len(words2split) - 1:\n",
    "        emails_df[features_naming[feature_idx]] = emails_df['pre_info'].map(info_split)\n",
    "    else:\n",
    "        emails_df[features_naming[feature_idx]] = emails_df['pre_info'].map(info_split_last) "
   ]
  },
  {
   "cell_type": "code",
   "execution_count": 12,
   "metadata": {},
   "outputs": [
    {
     "data": {
      "text/plain": [
       "7bi                            494994\n",
       "quoted-printabl                 22399\n",
       "base6                               4\n",
       "text/plain; charset=us-asci         1\n",
       "Name: Content-Transfer-Encoding, dtype: int64"
      ]
     },
     "execution_count": 12,
     "metadata": {},
     "output_type": "execute_result"
    }
   ],
   "source": [
    "emails_df['Content-Transfer-Encoding'].value_counts()"
   ]
  },
  {
   "cell_type": "code",
   "execution_count": 13,
   "metadata": {},
   "outputs": [],
   "source": [
    "df_remove2 = emails_df.loc[emails_df['Content-Transfer-Encoding'] == 'text/plain; charset=us-asci']\n",
    "emails_df = emails_df.loc[emails_df['Content-Transfer-Encoding'] != 'text/plain; charset=us-asci']"
   ]
  },
  {
   "cell_type": "code",
   "execution_count": 14,
   "metadata": {},
   "outputs": [
    {
     "data": {
      "text/plain": [
       "9         ---------------------- Forwarded by Phillip K ...\n",
       "12        ---------------------- Forwarded by Phillip K ...\n",
       "13        ---------------------- Forwarded by Phillip K ...\n",
       "16        ---------------------- Forwarded by Phillip K ...\n",
       "18        ---------------------- Forwarded by Phillip K ...\n",
       "                                ...                        \n",
       "517175    \\n\\n -----Original Message-----\\nFrom: \\tKeoha...\n",
       "517197    We can have you sit down with John Disturnal, ...\n",
       "517205    \\n\\n -----Original Message-----\\nFrom: \\tkfrog...\n",
       "517313    \\n\\n -----Original Message-----\\nFrom: \\t\"Trav...\n",
       "517321    \\n\\n -----Original Message-----\\nFrom: \\t\"J&J ...\n",
       "Name: content, Length: 97360, dtype: object"
      ]
     },
     "execution_count": 14,
     "metadata": {},
     "output_type": "execute_result"
    }
   ],
   "source": [
    "emails_df.loc[emails_df[\"content\"].str.contains(\"-------------\"), \"content\"]"
   ]
  },
  {
   "cell_type": "code",
   "execution_count": 15,
   "metadata": {},
   "outputs": [],
   "source": [
    "# split other forms of contents out\n",
    "def split_other_content(i):\n",
    "    return i.split('-------------', 1)[0]\n",
    "\n",
    "emails_df[\"has_other_content\"] = emails_df[\"content\"].str.contains(\"-------------\")\n",
    "emails_df[\"if_forwarded\"] = emails_df[\"content\"].str.contains(\"------------- Forwarded\")\n",
    "emails_df['content'] = emails_df.content.map(split_other_content)"
   ]
  },
  {
   "cell_type": "code",
   "execution_count": null,
   "metadata": {},
   "outputs": [],
   "source": [
    "emails_df = emails_df.drop(['pre_info','test_true', 'num_info'], axis = 1).set_index(\"file\")\n",
    "emails_df.to_csv(\"emails_cleaned.csv\")"
   ]
  }
 ],
 "metadata": {
  "kernelspec": {
   "display_name": "Python 3.10.8 64-bit",
   "language": "python",
   "name": "python3"
  },
  "language_info": {
   "codemirror_mode": {
    "name": "ipython",
    "version": 3
   },
   "file_extension": ".py",
   "mimetype": "text/x-python",
   "name": "python",
   "nbconvert_exporter": "python",
   "pygments_lexer": "ipython3",
   "version": "3.10.8"
  },
  "orig_nbformat": 4,
  "vscode": {
   "interpreter": {
    "hash": "e7370f93d1d0cde622a1f8e1c04877d8463912d04d973331ad4851f04de6915a"
   }
  }
 },
 "nbformat": 4,
 "nbformat_minor": 2
}
