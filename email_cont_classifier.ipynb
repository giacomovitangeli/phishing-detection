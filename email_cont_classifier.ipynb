{
 "cells": [
  {
   "cell_type": "markdown",
   "metadata": {
    "collapsed": false
   },
   "source": [
    "## Prova di Classificazione email"
   ]
  },
  {
   "cell_type": "code",
   "execution_count": 15,
   "metadata": {
    "collapsed": false
   },
   "outputs": [
    {
     "name": "stdout",
     "output_type": "stream",
     "text": [
      "INFO: Pandarallel will run on 2 workers.\n",
      "INFO: Pandarallel will use Memory file system to transfer data between the main process and workers.\n"
     ]
    },
    {
     "data": {
      "text/html": [
       "<div>\n",
       "<style scoped>\n",
       "    .dataframe tbody tr th:only-of-type {\n",
       "        vertical-align: middle;\n",
       "    }\n",
       "\n",
       "    .dataframe tbody tr th {\n",
       "        vertical-align: top;\n",
       "    }\n",
       "\n",
       "    .dataframe thead th {\n",
       "        text-align: right;\n",
       "    }\n",
       "</style>\n",
       "<table border=\"1\" class=\"dataframe\">\n",
       "  <thead>\n",
       "    <tr style=\"text-align: right;\">\n",
       "      <th></th>\n",
       "      <th>email</th>\n",
       "      <th>label</th>\n",
       "    </tr>\n",
       "  </thead>\n",
       "  <tbody>\n",
       "    <tr>\n",
       "      <th>0</th>\n",
       "      <td>Subject: re : vacation\\n vincent :\\n congratul...</td>\n",
       "      <td>ham</td>\n",
       "    </tr>\n",
       "    <tr>\n",
       "      <th>1</th>\n",
       "      <td>Subject: re : industrials\\n robert ,\\n i never...</td>\n",
       "      <td>ham</td>\n",
       "    </tr>\n",
       "    <tr>\n",
       "      <th>2</th>\n",
       "      <td>Subject: midtex\\n after comparing hpl ' s numb...</td>\n",
       "      <td>ham</td>\n",
       "    </tr>\n",
       "    <tr>\n",
       "      <th>3</th>\n",
       "      <td>Subject: = ? ansi _ x 3 . 4 - 1968 ? q ? use _...</td>\n",
       "      <td>ham</td>\n",
       "    </tr>\n",
       "    <tr>\n",
       "      <th>4</th>\n",
       "      <td>Subject: schedule crawler : hourahead failure\\...</td>\n",
       "      <td>ham</td>\n",
       "    </tr>\n",
       "    <tr>\n",
       "      <th>5</th>\n",
       "      <td>Subject: hpl nom for december 22 , 2000\\n ( se...</td>\n",
       "      <td>ham</td>\n",
       "    </tr>\n",
       "    <tr>\n",
       "      <th>6</th>\n",
       "      <td>Subject: re : gtc change for removal of hpl la...</td>\n",
       "      <td>ham</td>\n",
       "    </tr>\n",
       "    <tr>\n",
       "      <th>7</th>\n",
       "      <td>Subject: hpl staffing\\n attached is the reques...</td>\n",
       "      <td>ham</td>\n",
       "    </tr>\n",
       "    <tr>\n",
       "      <th>8</th>\n",
       "      <td>Subject: netco required contracts\\n counterpar...</td>\n",
       "      <td>ham</td>\n",
       "    </tr>\n",
       "    <tr>\n",
       "      <th>9</th>\n",
       "      <td>Subject: longview dash request\\n louise :\\n a ...</td>\n",
       "      <td>ham</td>\n",
       "    </tr>\n",
       "  </tbody>\n",
       "</table>\n",
       "</div>"
      ],
      "text/plain": [
       "                                               email label\n",
       "0  Subject: re : vacation\\n vincent :\\n congratul...   ham\n",
       "1  Subject: re : industrials\\n robert ,\\n i never...   ham\n",
       "2  Subject: midtex\\n after comparing hpl ' s numb...   ham\n",
       "3  Subject: = ? ansi _ x 3 . 4 - 1968 ? q ? use _...   ham\n",
       "4  Subject: schedule crawler : hourahead failure\\...   ham\n",
       "5  Subject: hpl nom for december 22 , 2000\\n ( se...   ham\n",
       "6  Subject: re : gtc change for removal of hpl la...   ham\n",
       "7  Subject: hpl staffing\\n attached is the reques...   ham\n",
       "8  Subject: netco required contracts\\n counterpar...   ham\n",
       "9  Subject: longview dash request\\n louise :\\n a ...   ham"
      ]
     },
     "execution_count": 15,
     "metadata": {},
     "output_type": "execute_result"
    },
    {
     "data": {
      "image/png": "[encoded data removed]",
      "text/plain": [
       "<Figure size 640x480 with 1 Axes>"
      ]
     },
     "metadata": {},
     "output_type": "display_data"
    }
   ],
   "source": [
    "from os import walk\n",
    "from string import punctuation\n",
    "from random import shuffle\n",
    "from collections import Counter\n",
    "\n",
    "# Importing additional libraries\n",
    "\n",
    "import pandas as pd\n",
    "import sklearn as sk\n",
    "import nltk\n",
    "\n",
    "from pandarallel import pandarallel\n",
    "\n",
    "# Initialization\n",
    "pandarallel.initialize(progress_bar=True)\n",
    "\n",
    "# Read the whole data from the Enron Dataset into a variable allData.\n",
    "\n",
    "pathwalk = walk(r\"enron-spam/\")\n",
    "\n",
    "allHamData, allSpamData = [], []\n",
    "for root, dr, file in pathwalk:\n",
    "    if 'ham' in str(file):\n",
    "        for obj in file:\n",
    "            with open(root + '/' + obj, encoding='latin1') as ip:\n",
    "                allHamData.append(\" \".join(ip.readlines()))\n",
    "\n",
    "    elif 'spam' in str(file):\n",
    "        for obj in file:\n",
    "            with open(root + '/' + obj, encoding='latin1') as ip:\n",
    "                allSpamData.append(\" \".join(ip.readlines()))\n",
    "                # remove all redundant data\n",
    "\n",
    "allHamData = list(set(allHamData))\n",
    "allSpamData = list(set(allSpamData))\n",
    "# storing it in a dataframe\n",
    "\n",
    "hamPlusSpamData = allHamData + allSpamData\n",
    "labels = [\"ham\"]*len(allHamData) + [\"spam\"]*len(allSpamData)\n",
    "\n",
    "raw_df = pd.DataFrame({\"email\": hamPlusSpamData,\n",
    "                       \"label\": labels})\n",
    "\n",
    "# get an overview of the data\n",
    "\n",
    "raw_df.label.hist(bins=3)\n",
    "raw_df.head(10)"
   ]
  },
  {
   "cell_type": "code",
   "execution_count": 16,
   "metadata": {},
   "outputs": [
    {
     "data": {
      "text/plain": [
       "['Subject',\n",
       " 're',\n",
       " 'vacation',\n",
       " 'vincent',\n",
       " 'congratulations',\n",
       " 'please',\n",
       " 'take',\n",
       " 'whatever',\n",
       " 'time',\n",
       " 'is',\n",
       " 'necessary',\n",
       " 'i',\n",
       " 'hope',\n",
       " 'the',\n",
       " 'complications',\n",
       " 'are',\n",
       " 'only',\n",
       " 'with',\n",
       " 'the',\n",
       " 'in',\n",
       " 'laws',\n",
       " 'and',\n",
       " 'not',\n",
       " 'the',\n",
       " 'police',\n",
       " 'u',\n",
       " 's',\n",
       " 'immigration',\n",
       " 'etc',\n",
       " 'let',\n",
       " 'me',\n",
       " 'know',\n",
       " 'if',\n",
       " 'there',\n",
       " 'is',\n",
       " 'anything',\n",
       " 'we',\n",
       " 'can',\n",
       " 'do',\n",
       " 'for',\n",
       " 'you',\n",
       " 'regards',\n",
       " 'grant',\n",
       " 'vincent',\n",
       " 'tang',\n",
       " 'on',\n",
       " 'pm',\n",
       " 'to',\n",
       " 'grant',\n",
       " 'masson',\n",
       " 'enron',\n",
       " 'com',\n",
       " 'cc',\n",
       " 'subject',\n",
       " 'hi',\n",
       " 'grant',\n",
       " 'how',\n",
       " 'are',\n",
       " 'you',\n",
       " 'hope',\n",
       " 'everything',\n",
       " 'is',\n",
       " 'going',\n",
       " 'well',\n",
       " 'my',\n",
       " 'wedding',\n",
       " 'ceremony',\n",
       " 'was',\n",
       " 'very',\n",
       " 'good',\n",
       " 'but',\n",
       " 'the',\n",
       " 'whole',\n",
       " 'process',\n",
       " 'is',\n",
       " 'more',\n",
       " 'complex',\n",
       " 'than',\n",
       " 'i',\n",
       " 'expected',\n",
       " 'it',\n",
       " 'might',\n",
       " 'take',\n",
       " 'several',\n",
       " 'more',\n",
       " 'days',\n",
       " 'so',\n",
       " 'i',\n",
       " 'am',\n",
       " 'wondering',\n",
       " 'if',\n",
       " 'it',\n",
       " 'is',\n",
       " 'not',\n",
       " 'too',\n",
       " 'much',\n",
       " 'a',\n",
       " 'trouble',\n",
       " 'for',\n",
       " 'you',\n",
       " 'i',\n",
       " 'would',\n",
       " 'like',\n",
       " 'to',\n",
       " 'extend',\n",
       " 'my',\n",
       " 'vacation',\n",
       " 'several',\n",
       " 'more',\n",
       " 'days',\n",
       " 'please',\n",
       " 'let',\n",
       " 'me',\n",
       " 'know',\n",
       " 'best',\n",
       " 'regards',\n",
       " 'vincent',\n",
       " 'do',\n",
       " 'you',\n",
       " 'yahoo',\n",
       " 'send',\n",
       " 'online',\n",
       " 'invitations',\n",
       " 'with',\n",
       " 'yahoo',\n",
       " 'invites',\n",
       " 'http',\n",
       " 'invites',\n",
       " 'yahoo',\n",
       " 'com']"
      ]
     },
     "execution_count": 16,
     "metadata": {},
     "output_type": "execute_result"
    }
   ],
   "source": [
    "from nltk.tokenize import RegexpTokenizer\n",
    "# check for null value\n",
    "raw_df.isnull().sum()\n",
    "#Pre-processing\n",
    "tokenizer = RegexpTokenizer(\"[A-Za-z]+\")\n",
    "raw_df.email[0]\n",
    "tokenizer.tokenize(raw_df.email[0])"
   ]
  },
  {
   "cell_type": "code",
   "execution_count": 17,
   "metadata": {},
   "outputs": [
    {
     "data": {
      "application/vnd.jupyter.widget-view+json": {
       "model_id": "23f8afb97436466a8511fce222237e50",
       "version_major": 2,
       "version_minor": 0
      },
      "text/plain": [
       "VBox(children=(HBox(children=(IntProgress(value=0, description='0.00%', max=15247), Label(value='0 / 15247')))…"
      ]
     },
     "metadata": {},
     "output_type": "display_data"
    },
    {
     "data": {
      "application/vnd.jupyter.widget-view+json": {
       "model_id": "d3686a2aa65e4973a952347ab9178556",
       "version_major": 2,
       "version_minor": 0
      },
      "text/plain": [
       "VBox(children=(HBox(children=(IntProgress(value=0, description='0.00%', max=15247), Label(value='0 / 15247')))…"
      ]
     },
     "metadata": {},
     "output_type": "display_data"
    },
    {
     "data": {
      "application/vnd.jupyter.widget-view+json": {
       "model_id": "584b2b96f693483baef711b17261c069",
       "version_major": 2,
       "version_minor": 0
      },
      "text/plain": [
       "VBox(children=(HBox(children=(IntProgress(value=0, description='0.00%', max=15247), Label(value='0 / 15247')))…"
      ]
     },
     "metadata": {},
     "output_type": "display_data"
    }
   ],
   "source": [
    "from nltk.stem.snowball import SnowballStemmer\n",
    "raw_df['text_tokenized'] = raw_df.email.parallel_map(lambda t: tokenizer.tokenize(str(t)))\n",
    "stemmer = SnowballStemmer(\"english\")\n",
    "raw_df['text_stemmed'] = raw_df['text_tokenized'].parallel_map(lambda l: [stemmer.stem(word) for word in l])\n",
    "raw_df['text_sent'] = raw_df['text_stemmed'].parallel_map(lambda l: ' '.join(l))"
   ]
  },
  {
   "cell_type": "markdown",
   "metadata": {},
   "source": [
    "### Visualizzation"
   ]
  },
  {
   "cell_type": "code",
   "execution_count": 24,
   "metadata": {},
   "outputs": [
    {
     "data": {
      "text/html": [
       "<div>\n",
       "<style scoped>\n",
       "    .dataframe tbody tr th:only-of-type {\n",
       "        vertical-align: middle;\n",
       "    }\n",
       "\n",
       "    .dataframe tbody tr th {\n",
       "        vertical-align: top;\n",
       "    }\n",
       "\n",
       "    .dataframe thead th {\n",
       "        text-align: right;\n",
       "    }\n",
       "</style>\n",
       "<table border=\"1\" class=\"dataframe\">\n",
       "  <thead>\n",
       "    <tr style=\"text-align: right;\">\n",
       "      <th></th>\n",
       "      <th>email</th>\n",
       "      <th>label</th>\n",
       "      <th>text_tokenized</th>\n",
       "      <th>text_stemmed</th>\n",
       "      <th>text_sent</th>\n",
       "    </tr>\n",
       "  </thead>\n",
       "  <tbody>\n",
       "    <tr>\n",
       "      <th>0</th>\n",
       "      <td>Subject: re : vacation\\n vincent :\\n congratul...</td>\n",
       "      <td>ham</td>\n",
       "      <td>[Subject, re, vacation, vincent, congratulatio...</td>\n",
       "      <td>[subject, re, vacat, vincent, congratul, pleas...</td>\n",
       "      <td>subject re vacat vincent congratul pleas take ...</td>\n",
       "    </tr>\n",
       "    <tr>\n",
       "      <th>1</th>\n",
       "      <td>Subject: re : industrials\\n robert ,\\n i never...</td>\n",
       "      <td>ham</td>\n",
       "      <td>[Subject, re, industrials, robert, i, never, s...</td>\n",
       "      <td>[subject, re, industri, robert, i, never, saw,...</td>\n",
       "      <td>subject re industri robert i never saw the jul...</td>\n",
       "    </tr>\n",
       "    <tr>\n",
       "      <th>2</th>\n",
       "      <td>Subject: midtex\\n after comparing hpl ' s numb...</td>\n",
       "      <td>ham</td>\n",
       "      <td>[Subject, midtex, after, comparing, hpl, s, nu...</td>\n",
       "      <td>[subject, midtex, after, compar, hpl, s, numbe...</td>\n",
       "      <td>subject midtex after compar hpl s number with ...</td>\n",
       "    </tr>\n",
       "    <tr>\n",
       "      <th>3</th>\n",
       "      <td>Subject: = ? ansi _ x 3 . 4 - 1968 ? q ? use _...</td>\n",
       "      <td>ham</td>\n",
       "      <td>[Subject, ansi, x, q, use, of, corporate, amer...</td>\n",
       "      <td>[subject, ansi, x, q, use, of, corpor, america...</td>\n",
       "      <td>subject ansi x q use of corpor american expr i...</td>\n",
       "    </tr>\n",
       "    <tr>\n",
       "      <th>4</th>\n",
       "      <td>Subject: schedule crawler : hourahead failure\\...</td>\n",
       "      <td>ham</td>\n",
       "      <td>[Subject, schedule, crawler, hourahead, failur...</td>\n",
       "      <td>[subject, schedul, crawler, hourahead, failur,...</td>\n",
       "      <td>subject schedul crawler hourahead failur start...</td>\n",
       "    </tr>\n",
       "  </tbody>\n",
       "</table>\n",
       "</div>"
      ],
      "text/plain": [
       "                                               email label  \\\n",
       "0  Subject: re : vacation\\n vincent :\\n congratul...   ham   \n",
       "1  Subject: re : industrials\\n robert ,\\n i never...   ham   \n",
       "2  Subject: midtex\\n after comparing hpl ' s numb...   ham   \n",
       "3  Subject: = ? ansi _ x 3 . 4 - 1968 ? q ? use _...   ham   \n",
       "4  Subject: schedule crawler : hourahead failure\\...   ham   \n",
       "\n",
       "                                      text_tokenized  \\\n",
       "0  [Subject, re, vacation, vincent, congratulatio...   \n",
       "1  [Subject, re, industrials, robert, i, never, s...   \n",
       "2  [Subject, midtex, after, comparing, hpl, s, nu...   \n",
       "3  [Subject, ansi, x, q, use, of, corporate, amer...   \n",
       "4  [Subject, schedule, crawler, hourahead, failur...   \n",
       "\n",
       "                                        text_stemmed  \\\n",
       "0  [subject, re, vacat, vincent, congratul, pleas...   \n",
       "1  [subject, re, industri, robert, i, never, saw,...   \n",
       "2  [subject, midtex, after, compar, hpl, s, numbe...   \n",
       "3  [subject, ansi, x, q, use, of, corpor, america...   \n",
       "4  [subject, schedul, crawler, hourahead, failur,...   \n",
       "\n",
       "                                           text_sent  \n",
       "0  subject re vacat vincent congratul pleas take ...  \n",
       "1  subject re industri robert i never saw the jul...  \n",
       "2  subject midtex after compar hpl s number with ...  \n",
       "3  subject ansi x q use of corpor american expr i...  \n",
       "4  subject schedul crawler hourahead failur start...  "
      ]
     },
     "execution_count": 24,
     "metadata": {},
     "output_type": "execute_result"
    }
   ],
   "source": [
    "bad_emails = raw_df[raw_df.label == 'spam']\n",
    "good_emails = raw_df[raw_df.label == 'ham']\n",
    "\n",
    "raw_df.head()"
   ]
  },
  {
   "cell_type": "markdown",
   "metadata": {},
   "source": [
    "### Creating Model"
   ]
  },
  {
   "cell_type": "code",
   "execution_count": 19,
   "metadata": {},
   "outputs": [],
   "source": [
    "from sklearn.feature_extraction.text import CountVectorizer\n",
    "from sklearn.model_selection import train_test_split\n",
    "from sklearn.model_selection import train_test_split\n",
    "cv = CountVectorizer()\n",
    "feature = cv.fit_transform(raw_df.text_sent)\n",
    "trainX, testX, trainY, testY = train_test_split(feature, raw_df.label)"
   ]
  },
  {
   "cell_type": "markdown",
   "metadata": {},
   "source": [
    "### Logistic Regression"
   ]
  },
  {
   "cell_type": "code",
   "execution_count": 20,
   "metadata": {},
   "outputs": [
    {
     "name": "stderr",
     "output_type": "stream",
     "text": [
      "/home/giacomo/.local/lib/python3.10/site-packages/sklearn/linear_model/_logistic.py:444: ConvergenceWarning: lbfgs failed to converge (status=1):\n",
      "STOP: TOTAL NO. of ITERATIONS REACHED LIMIT.\n",
      "\n",
      "Increase the number of iterations (max_iter) or scale the data as shown in:\n",
      "    https://scikit-learn.org/stable/modules/preprocessing.html\n",
      "Please also refer to the documentation for alternative solver options:\n",
      "    https://scikit-learn.org/stable/modules/linear_model.html#logistic-regression\n",
      "  n_iter_i = _check_optimize_result(\n"
     ]
    },
    {
     "name": "stdout",
     "output_type": "stream",
     "text": [
      "Training Accuracy : 0.9991692173152602\n",
      "Testing Accuracy : 0.9870146904512067\n",
      "\n",
      "CLASSIFICATION REPORT\n",
      "\n",
      "              precision    recall  f1-score   support\n",
      "\n",
      "         Bad       0.98      0.99      0.99      3920\n",
      "        Good       0.99      0.98      0.99      3704\n",
      "\n",
      "    accuracy                           0.99      7624\n",
      "   macro avg       0.99      0.99      0.99      7624\n",
      "weighted avg       0.99      0.99      0.99      7624\n",
      "\n",
      "\n",
      "CONFUSION MATRIX\n"
     ]
    },
    {
     "data": {
      "text/plain": [
       "<AxesSubplot: >"
      ]
     },
     "execution_count": 20,
     "metadata": {},
     "output_type": "execute_result"
    },
    {
     "data": {
      "image/png": "[encoded data removed]",
      "text/plain": [
       "<Figure size 600x400 with 2 Axes>"
      ]
     },
     "metadata": {},
     "output_type": "display_data"
    }
   ],
   "source": [
    "import numpy as np\n",
    "import seaborn as sns\n",
    "import matplotlib.pyplot as plt\n",
    "from sklearn.linear_model import LogisticRegression\n",
    "from sklearn.metrics import confusion_matrix\n",
    "from sklearn.metrics import classification_report\n",
    "from sklearn.neighbors import KNeighborsClassifier\n",
    "from sklearn.metrics import accuracy_score\n",
    "lr = LogisticRegression()\n",
    "lr.fit(trainX,trainY)\n",
    "lr.score(testX,testY)\n",
    "Scores_ml = {}\n",
    "Scores_ml['Logistic Regression'] = np.round(lr.score(testX,testY),2)\n",
    "\n",
    "print('Training Accuracy :',lr.score(trainX,trainY))\n",
    "print('Testing Accuracy :',lr.score(testX,testY))\n",
    "con_mat = pd.DataFrame(confusion_matrix(lr.predict(testX), testY),\n",
    "            columns = ['Predicted:Bad', 'Predicted:Good'],\n",
    "            index = ['Actual:Bad', 'Actual:Good'])\n",
    "\n",
    "\n",
    "print('\\nCLASSIFICATION REPORT\\n')\n",
    "print(classification_report(lr.predict(testX), testY,\n",
    "                            target_names =['Bad','Good']))\n",
    "\n",
    "print('\\nCONFUSION MATRIX')\n",
    "plt.figure(figsize= (6,4))\n",
    "sns.heatmap(con_mat, annot = True,fmt='d',cmap=\"YlGnBu\")"
   ]
  },
  {
   "cell_type": "markdown",
   "metadata": {},
   "source": [
    "# Multinomial Naive Bayes"
   ]
  },
  {
   "cell_type": "code",
   "execution_count": 21,
   "metadata": {},
   "outputs": [
    {
     "name": "stdout",
     "output_type": "stream",
     "text": [
      "Training Accuracy : 0.9889374726716222\n",
      "Testing Accuracy : 0.9862277019937041\n",
      "\n",
      "CLASSIFICATION REPORT\n",
      "\n",
      "              precision    recall  f1-score   support\n",
      "\n",
      "         Bad       0.99      0.99      0.99      3958\n",
      "        Good       0.99      0.99      0.99      3666\n",
      "\n",
      "    accuracy                           0.99      7624\n",
      "   macro avg       0.99      0.99      0.99      7624\n",
      "weighted avg       0.99      0.99      0.99      7624\n",
      "\n",
      "\n",
      "CONFUSION MATRIX\n"
     ]
    },
    {
     "data": {
      "text/plain": [
       "<AxesSubplot: >"
      ]
     },
     "execution_count": 21,
     "metadata": {},
     "output_type": "execute_result"
    },
    {
     "data": {
      "image/png": "[encoded data removed]",
      "text/plain": [
       "<Figure size 600x400 with 2 Axes>"
      ]
     },
     "metadata": {},
     "output_type": "display_data"
    }
   ],
   "source": [
    "from sklearn.naive_bayes import MultinomialNB\n",
    "from sklearn.pipeline import make_pipeline\n",
    "import pickle\n",
    "\n",
    "mnb = MultinomialNB()\n",
    "mnb.fit(trainX,trainY)\n",
    "mnb.score(testX,testY)\n",
    "Scores_ml['MultinomialNB'] = np.round(mnb.score(testX,testY),2)\n",
    "\n",
    "print('Training Accuracy :',mnb.score(trainX,trainY))\n",
    "print('Testing Accuracy :',mnb.score(testX,testY))\n",
    "con_mat = pd.DataFrame(confusion_matrix(mnb.predict(testX), testY),\n",
    "            columns = ['Predicted:Bad', 'Predicted:Good'],\n",
    "            index = ['Actual:Bad', 'Actual:Good'])\n",
    "\n",
    "\n",
    "print('\\nCLASSIFICATION REPORT\\n')\n",
    "print(classification_report(mnb.predict(testX), testY,\n",
    "                            target_names =['Bad','Good']))\n",
    "\n",
    "print('\\nCONFUSION MATRIX')\n",
    "plt.figure(figsize= (6,4))\n",
    "sns.heatmap(con_mat, annot = True,fmt='d',cmap=\"YlGnBu\")"
   ]
  },
  {
   "cell_type": "markdown",
   "metadata": {},
   "source": [
    "# Support Vector Machine"
   ]
  },
  {
   "cell_type": "code",
   "execution_count": 22,
   "metadata": {},
   "outputs": [
    {
     "name": "stdout",
     "output_type": "stream",
     "text": [
      "Training Accuracy : 0.99995627459554\n",
      "Testing Accuracy : 0.9804564533053515\n",
      "\n",
      "CLASSIFICATION REPORT\n",
      "\n",
      "              precision    recall  f1-score   support\n",
      "\n",
      "         Bad       0.98      0.98      0.98      3954\n",
      "        Good       0.98      0.98      0.98      3670\n",
      "\n",
      "    accuracy                           0.98      7624\n",
      "   macro avg       0.98      0.98      0.98      7624\n",
      "weighted avg       0.98      0.98      0.98      7624\n",
      "\n",
      "\n",
      "CONFUSION MATRIX\n"
     ]
    },
    {
     "data": {
      "text/plain": [
       "<AxesSubplot: >"
      ]
     },
     "execution_count": 22,
     "metadata": {},
     "output_type": "execute_result"
    },
    {
     "data": {
      "image/png": "[encoded data removed]",
      "text/plain": [
       "<Figure size 600x400 with 2 Axes>"
      ]
     },
     "metadata": {},
     "output_type": "display_data"
    }
   ],
   "source": [
    "from sklearn import svm\n",
    "from sklearn.feature_extraction.text import CountVectorizer\n",
    "from sklearn.model_selection import train_test_split\n",
    "from sklearn.model_selection import train_test_split\n",
    "from sklearn.metrics import confusion_matrix\n",
    "from sklearn.metrics import classification_report\n",
    "SVC_model = svm.SVC(kernel='linear')\n",
    "SVC_model.fit(trainX,trainY)\n",
    "\n",
    "print('Training Accuracy :', SVC_model.score(trainX,trainY))\n",
    "print('Testing Accuracy :',SVC_model.score(testX,testY))\n",
    "con_mat = pd.DataFrame(confusion_matrix(SVC_model.predict(testX), testY),\n",
    "            columns = ['Predicted:Bad', 'Predicted:Good'],\n",
    "            index = ['Actual:Bad', 'Actual:Good'])\n",
    "\n",
    "print('\\nCLASSIFICATION REPORT\\n')\n",
    "print(classification_report(SVC_model.predict(testX), testY,\n",
    "                            target_names =['Bad','Good']))\n",
    "\n",
    "print('\\nCONFUSION MATRIX')\n",
    "plt.figure(figsize= (6,4))\n",
    "sns.heatmap(con_mat, annot = True,fmt='d',cmap=\"YlGnBu\")\n"
   ]
  }
 ],
 "metadata": {
  "kernelspec": {
   "display_name": "Python 3.10.6 64-bit",
   "language": "python",
   "name": "python3"
  },
  "language_info": {
   "codemirror_mode": {
    "name": "ipython",
    "version": 3
   },
   "file_extension": ".py",
   "mimetype": "text/x-python",
   "name": "python",
   "nbconvert_exporter": "python",
   "pygments_lexer": "ipython3",
   "version": "3.10.6 (main, Nov  2 2022, 18:53:38) [GCC 11.3.0]"
  },
  "vscode": {
   "interpreter": {
    "hash": "916dbcbb3f70747c44a77c7bcd40155683ae19c65e1c03b4aa3499c5328201f1"
   }
  }
 },
 "nbformat": 4,
 "nbformat_minor": 0
}
