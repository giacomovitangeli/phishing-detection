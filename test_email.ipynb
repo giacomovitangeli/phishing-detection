{
 "cells": [
  {
   "cell_type": "code",
   "execution_count": 1,
   "metadata": {
    "collapsed": false
   },
   "outputs": [
    {
     "data": {
      "text/plain": [
       "['Here', 'is', 'our', 'forecast']"
      ]
     },
     "execution_count": 1,
     "metadata": {},
     "output_type": "execute_result"
    }
   ],
   "source": [
    "import pandas as pd\n",
    "import numpy as np\n",
    "import seaborn as sns\n",
    "import matplotlib.pyplot as plt\n",
    "import plotly.express as px\n",
    "from nltk.tokenize import RegexpTokenizer\n",
    "from nltk.stem.snowball import SnowballStemmer\n",
    "from sklearn.linear_model import LogisticRegression\n",
    "from sklearn.feature_extraction.text import CountVectorizer\n",
    "from sklearn.model_selection import train_test_split\n",
    "from sklearn.model_selection import train_test_split\n",
    "from sklearn.metrics import confusion_matrix\n",
    "from sklearn.metrics import classification_report\n",
    "from sklearn.neighbors import KNeighborsClassifier\n",
    "from sklearn.metrics import accuracy_score\n",
    "from pandarallel import pandarallel\n",
    "\n",
    "# Initialization\n",
    "pandarallel.initialize(progress_bar=True)\n",
    "\n",
    "df = pd.read_csv(\"emails_content.csv\")\n",
    "# check for null value\n",
    "df.isnull().sum()\n",
    "#Pre-processing\n",
    "tokenizer = RegexpTokenizer(\"[A-Za-z]+\")\n",
    "df.content[0]\n",
    "tokenizer.tokenize(df.content[0])"
   ]
  },
  {
   "cell_type": "code",
   "execution_count": 3,
   "metadata": {
    "collapsed": false
   },
   "outputs": [],
   "source": [
    "df['text_tokenized'] = df.content.map(lambda t: tokenizer.tokenize(str(t)))\n",
    "stemmer = SnowballStemmer(\"english\")\n",
    "df['text_stemmed'] = df['text_tokenized'].map(lambda l: [stemmer.stem(word) for word in l])\n",
    "df['text_sent'] = df['text_stemmed'].map(lambda l: ' '.join(l))"
   ]
  },
  {
   "cell_type": "markdown",
   "metadata": {
    "collapsed": false
   },
   "source": [
    "## Prova di Classificazione email"
   ]
  },
  {
   "cell_type": "code",
   "execution_count": null,
   "metadata": {
    "collapsed": false
   },
   "outputs": [],
   "source": [
    "from os import walk\n",
    "from string import punctuation\n",
    "from random import shuffle\n",
    "from collections import Counter\n",
    "\n",
    "# importing additional libraries\n",
    "\n",
    "import pandas as pd\n",
    "import sklearn as sk\n",
    "import nltk\n",
    "# Read the whole data from the Enron Dataset into a variable allData.\n",
    "\n",
    "pathwalk = walk(r\"enron-spam/\")\n",
    "\n",
    "allHamData, allSpamData = [], []\n",
    "for root, dr, file in pathwalk:\n",
    "    if 'ham' in str(file):\n",
    "        for obj in file:\n",
    "            with open(root + '/' + obj, encoding='latin1') as ip:\n",
    "                allHamData.append(\" \".join(ip.readlines()))\n",
    "\n",
    "    elif 'spam' in str(file):\n",
    "        for obj in file:\n",
    "            with open(root + '/' + obj, encoding='latin1') as ip:\n",
    "                allSpamData.append(\" \".join(ip.readlines()))\n",
    "                # remove all redundant data\n",
    "\n",
    "allHamData = list(set(allHamData))\n",
    "allSpamData = list(set(allSpamData))\n",
    "# storing it in a dataframe\n",
    "\n",
    "hamPlusSpamData = allHamData + allSpamData\n",
    "labels = [\"ham\"]*len(allHamData) + [\"spam\"]*len(allSpamData)\n",
    "\n",
    "raw_df = pd.DataFrame({\"email\": hamPlusSpamData,\n",
    "                       \"label\": labels})\n",
    "\n",
    "# get an overview of the data\n",
    "\n",
    "raw_df.parallel_label.hist(bins=3)\n",
    "raw_df.head(10)"
   ]
  },
  {
   "cell_type": "code",
   "execution_count": null,
   "metadata": {},
   "outputs": [],
   "source": [
    "# check for null value\n",
    "raw_df.isnull().sum()\n",
    "#Pre-processing\n",
    "tokenizer = RegexpTokenizer(\"[A-Za-z]+\")\n",
    "raw_df.email[0]\n",
    "tokenizer.tokenize(raw_df.email[0])"
   ]
  },
  {
   "cell_type": "code",
   "execution_count": null,
   "metadata": {},
   "outputs": [],
   "source": [
    "raw_df['text_tokenized'] = raw_df.email.map(lambda t: tokenizer.tokenize(str(t)))\n",
    "stemmer = SnowballStemmer(\"english\")\n",
    "raw_df['text_stemmed'] = raw_df['text_tokenized'].map(lambda l: [stemmer.stem(word) for word in l])\n",
    "raw_df['text_sent'] = raw_df['text_stemmed'].map(lambda l: ' '.join(l))"
   ]
  },
  {
   "cell_type": "markdown",
   "metadata": {},
   "source": [
    "#Visualizzation"
   ]
  },
  {
   "cell_type": "code",
   "execution_count": null,
   "metadata": {},
   "outputs": [],
   "source": [
    "bad_emails = raw_df[raw_df.label == 'spam']\n",
    "good_emails = raw_df[raw_df.label == 'ham']"
   ]
  },
  {
   "cell_type": "markdown",
   "metadata": {},
   "source": [
    "#Creating Model"
   ]
  },
  {
   "cell_type": "code",
   "execution_count": null,
   "metadata": {},
   "outputs": [],
   "source": [
    "cv = CountVectorizer()\n",
    "feature = cv.fit_transform(raw_df.text_sent)\n",
    "trainX, testX, trainY, testY = train_test_split(feature, raw_df.label)"
   ]
  },
  {
   "cell_type": "markdown",
   "metadata": {},
   "source": [
    "#Logistic Regression"
   ]
  },
  {
   "cell_type": "code",
   "execution_count": null,
   "metadata": {},
   "outputs": [],
   "source": [
    "lr = LogisticRegression()\n",
    "lr.fit(trainX,trainY)\n",
    "lr.score(testX,testY)\n",
    "Scores_ml = {}\n",
    "Scores_ml['Logistic Regression'] = np.round(lr.score(testX,testY),2)\n",
    "\n",
    "print('Training Accuracy :',lr.score(trainX,trainY))\n",
    "print('Testing Accuracy :',lr.score(testX,testY))\n",
    "con_mat = pd.DataFrame(confusion_matrix(lr.predict(testX), testY),\n",
    "            columns = ['Predicted:Bad', 'Predicted:Good'],\n",
    "            index = ['Actual:Bad', 'Actual:Good'])\n",
    "\n",
    "\n",
    "print('\\nCLASSIFICATION REPORT\\n')\n",
    "print(classification_report(lr.predict(testX), testY,\n",
    "                            target_names =['Bad','Good']))\n",
    "\n",
    "print('\\nCONFUSION MATRIX')\n",
    "plt.figure(figsize= (6,4))\n",
    "sns.heatmap(con_mat, annot = True,fmt='d',cmap=\"YlGnBu\")"
   ]
  }
 ],
 "metadata": {
  "kernelspec": {
   "display_name": "Python 3.10.8 ('ai')",
   "language": "python",
   "name": "python3"
  },
  "language_info": {
   "codemirror_mode": {
    "name": "ipython",
    "version": 2
   },
   "file_extension": ".py",
   "mimetype": "text/x-python",
   "name": "python",
   "nbconvert_exporter": "python",
   "pygments_lexer": "ipython2",
   "version": "3.10.8"
  },
  "vscode": {
   "interpreter": {
    "hash": "abb655d4b669a8d875e103ac44b0779176b3cf59d04dd4472a863494966ed570"
   }
  }
 },
 "nbformat": 4,
 "nbformat_minor": 0
}
