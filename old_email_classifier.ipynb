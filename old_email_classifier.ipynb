{
 "cells": [
  {
   "cell_type": "code",
   "execution_count": 14,
   "metadata": {},
   "outputs": [],
   "source": [
    "import numpy as np\n",
    "import pandas as pd\n",
    "import nltk\n",
    "import os, gc, re"
   ]
  },
  {
   "cell_type": "code",
   "execution_count": 15,
   "metadata": {},
   "outputs": [
    {
     "data": {
      "text/html": [
       "<div>\n",
       "<style scoped>\n",
       "    .dataframe tbody tr th:only-of-type {\n",
       "        vertical-align: middle;\n",
       "    }\n",
       "\n",
       "    .dataframe tbody tr th {\n",
       "        vertical-align: top;\n",
       "    }\n",
       "\n",
       "    .dataframe thead th {\n",
       "        text-align: right;\n",
       "    }\n",
       "</style>\n",
       "<table border=\"1\" class=\"dataframe\">\n",
       "  <thead>\n",
       "    <tr style=\"text-align: right;\">\n",
       "      <th></th>\n",
       "      <th>file</th>\n",
       "      <th>message</th>\n",
       "      <th>content</th>\n",
       "      <th>Message-ID</th>\n",
       "      <th>Date</th>\n",
       "      <th>From</th>\n",
       "      <th>To</th>\n",
       "      <th>Subject</th>\n",
       "      <th>Cc</th>\n",
       "      <th>Mime-Version</th>\n",
       "      <th>...</th>\n",
       "      <th>Bcc</th>\n",
       "      <th>X-From</th>\n",
       "      <th>X-To</th>\n",
       "      <th>X-cc</th>\n",
       "      <th>X-bcc</th>\n",
       "      <th>X-Folder</th>\n",
       "      <th>X-Origin</th>\n",
       "      <th>X-FileName</th>\n",
       "      <th>has_other_content</th>\n",
       "      <th>if_forwarded</th>\n",
       "    </tr>\n",
       "  </thead>\n",
       "  <tbody>\n",
       "    <tr>\n",
       "      <th>0</th>\n",
       "      <td>allen-p/_sent_mail/1.</td>\n",
       "      <td>Message-ID: &lt;18782981.1075855378110.JavaMail.e...</td>\n",
       "      <td>Here is our forecast\\n\\n</td>\n",
       "      <td>&lt;18782981.1075855378110.JavaMail.evans@thyme</td>\n",
       "      <td>Mon, 14 May 2001 16:39:00 -0700 (PDT</td>\n",
       "      <td>phillip.allen@enron.co</td>\n",
       "      <td>tim.belden@enron.co</td>\n",
       "      <td>NaN</td>\n",
       "      <td>NaN</td>\n",
       "      <td>1.0</td>\n",
       "      <td>...</td>\n",
       "      <td>NaN</td>\n",
       "      <td>Phillip K Alle</td>\n",
       "      <td>Tim Belden &lt;Tim Belden/Enron@EnronXGate</td>\n",
       "      <td>NaN</td>\n",
       "      <td>NaN</td>\n",
       "      <td>\\Phillip_Allen_Jan2002_1\\Allen, Phillip K.\\'Se...</td>\n",
       "      <td>Allen-</td>\n",
       "      <td>pallen (Non-Privileged).pst</td>\n",
       "      <td>False</td>\n",
       "      <td>False</td>\n",
       "    </tr>\n",
       "    <tr>\n",
       "      <th>1</th>\n",
       "      <td>allen-p/_sent_mail/10.</td>\n",
       "      <td>Message-ID: &lt;15464986.1075855378456.JavaMail.e...</td>\n",
       "      <td>Traveling to have a business meeting takes the...</td>\n",
       "      <td>&lt;15464986.1075855378456.JavaMail.evans@thyme</td>\n",
       "      <td>Fri, 4 May 2001 13:51:00 -0700 (PDT</td>\n",
       "      <td>phillip.allen@enron.co</td>\n",
       "      <td>john.lavorato@enron.co</td>\n",
       "      <td>Re</td>\n",
       "      <td>NaN</td>\n",
       "      <td>1.0</td>\n",
       "      <td>...</td>\n",
       "      <td>NaN</td>\n",
       "      <td>Phillip K Alle</td>\n",
       "      <td>John J Lavorato &lt;John J Lavorato/ENRON@enronXg...</td>\n",
       "      <td>NaN</td>\n",
       "      <td>NaN</td>\n",
       "      <td>\\Phillip_Allen_Jan2002_1\\Allen, Phillip K.\\'Se...</td>\n",
       "      <td>Allen-</td>\n",
       "      <td>pallen (Non-Privileged).pst</td>\n",
       "      <td>False</td>\n",
       "      <td>False</td>\n",
       "    </tr>\n",
       "    <tr>\n",
       "      <th>2</th>\n",
       "      <td>allen-p/_sent_mail/100.</td>\n",
       "      <td>Message-ID: &lt;24216240.1075855687451.JavaMail.e...</td>\n",
       "      <td>test successful.  way to go!!!</td>\n",
       "      <td>&lt;24216240.1075855687451.JavaMail.evans@thyme</td>\n",
       "      <td>Wed, 18 Oct 2000 03:00:00 -0700 (PDT</td>\n",
       "      <td>phillip.allen@enron.co</td>\n",
       "      <td>leah.arsdall@enron.co</td>\n",
       "      <td>Re: tes</td>\n",
       "      <td>NaN</td>\n",
       "      <td>1.0</td>\n",
       "      <td>...</td>\n",
       "      <td>NaN</td>\n",
       "      <td>Phillip K Alle</td>\n",
       "      <td>Leah Van Arsdal</td>\n",
       "      <td>NaN</td>\n",
       "      <td>NaN</td>\n",
       "      <td>\\Phillip_Allen_Dec2000\\Notes Folders\\'sent mai</td>\n",
       "      <td>Allen-</td>\n",
       "      <td>pallen.nsf</td>\n",
       "      <td>False</td>\n",
       "      <td>False</td>\n",
       "    </tr>\n",
       "    <tr>\n",
       "      <th>3</th>\n",
       "      <td>allen-p/_sent_mail/1000.</td>\n",
       "      <td>Message-ID: &lt;13505866.1075863688222.JavaMail.e...</td>\n",
       "      <td>Randy,\\n\\n Can you send me a schedule of the s...</td>\n",
       "      <td>&lt;13505866.1075863688222.JavaMail.evans@thyme</td>\n",
       "      <td>Mon, 23 Oct 2000 06:13:00 -0700 (PDT</td>\n",
       "      <td>phillip.allen@enron.co</td>\n",
       "      <td>randall.gay@enron.co</td>\n",
       "      <td>NaN</td>\n",
       "      <td>NaN</td>\n",
       "      <td>1.0</td>\n",
       "      <td>...</td>\n",
       "      <td>NaN</td>\n",
       "      <td>Phillip K Alle</td>\n",
       "      <td>Randall L Ga</td>\n",
       "      <td>NaN</td>\n",
       "      <td>NaN</td>\n",
       "      <td>\\Phillip_Allen_Dec2000\\Notes Folders\\'sent mai</td>\n",
       "      <td>Allen-</td>\n",
       "      <td>pallen.nsf</td>\n",
       "      <td>False</td>\n",
       "      <td>False</td>\n",
       "    </tr>\n",
       "    <tr>\n",
       "      <th>4</th>\n",
       "      <td>allen-p/_sent_mail/1001.</td>\n",
       "      <td>Message-ID: &lt;30922949.1075863688243.JavaMail.e...</td>\n",
       "      <td>Let's shoot for Tuesday at 11:45.</td>\n",
       "      <td>&lt;30922949.1075863688243.JavaMail.evans@thyme</td>\n",
       "      <td>Thu, 31 Aug 2000 05:07:00 -0700 (PDT</td>\n",
       "      <td>phillip.allen@enron.co</td>\n",
       "      <td>greg.piper@enron.co</td>\n",
       "      <td>Re: Hell</td>\n",
       "      <td>NaN</td>\n",
       "      <td>1.0</td>\n",
       "      <td>...</td>\n",
       "      <td>NaN</td>\n",
       "      <td>Phillip K Alle</td>\n",
       "      <td>Greg Pipe</td>\n",
       "      <td>NaN</td>\n",
       "      <td>NaN</td>\n",
       "      <td>\\Phillip_Allen_Dec2000\\Notes Folders\\'sent mai</td>\n",
       "      <td>Allen-</td>\n",
       "      <td>pallen.nsf</td>\n",
       "      <td>False</td>\n",
       "      <td>False</td>\n",
       "    </tr>\n",
       "  </tbody>\n",
       "</table>\n",
       "<p>5 rows × 22 columns</p>\n",
       "</div>"
      ],
      "text/plain": [
       "                       file  \\\n",
       "0     allen-p/_sent_mail/1.   \n",
       "1    allen-p/_sent_mail/10.   \n",
       "2   allen-p/_sent_mail/100.   \n",
       "3  allen-p/_sent_mail/1000.   \n",
       "4  allen-p/_sent_mail/1001.   \n",
       "\n",
       "                                             message  \\\n",
       "0  Message-ID: <18782981.1075855378110.JavaMail.e...   \n",
       "1  Message-ID: <15464986.1075855378456.JavaMail.e...   \n",
       "2  Message-ID: <24216240.1075855687451.JavaMail.e...   \n",
       "3  Message-ID: <13505866.1075863688222.JavaMail.e...   \n",
       "4  Message-ID: <30922949.1075863688243.JavaMail.e...   \n",
       "\n",
       "                                             content  \\\n",
       "0                          Here is our forecast\\n\\n    \n",
       "1  Traveling to have a business meeting takes the...   \n",
       "2                     test successful.  way to go!!!   \n",
       "3  Randy,\\n\\n Can you send me a schedule of the s...   \n",
       "4                Let's shoot for Tuesday at 11:45.     \n",
       "\n",
       "                                     Message-ID  \\\n",
       "0  <18782981.1075855378110.JavaMail.evans@thyme   \n",
       "1  <15464986.1075855378456.JavaMail.evans@thyme   \n",
       "2  <24216240.1075855687451.JavaMail.evans@thyme   \n",
       "3  <13505866.1075863688222.JavaMail.evans@thyme   \n",
       "4  <30922949.1075863688243.JavaMail.evans@thyme   \n",
       "\n",
       "                                   Date                    From  \\\n",
       "0  Mon, 14 May 2001 16:39:00 -0700 (PDT  phillip.allen@enron.co   \n",
       "1   Fri, 4 May 2001 13:51:00 -0700 (PDT  phillip.allen@enron.co   \n",
       "2  Wed, 18 Oct 2000 03:00:00 -0700 (PDT  phillip.allen@enron.co   \n",
       "3  Mon, 23 Oct 2000 06:13:00 -0700 (PDT  phillip.allen@enron.co   \n",
       "4  Thu, 31 Aug 2000 05:07:00 -0700 (PDT  phillip.allen@enron.co   \n",
       "\n",
       "                       To   Subject   Cc  Mime-Version  ...  Bcc  \\\n",
       "0     tim.belden@enron.co       NaN  NaN           1.0  ...  NaN   \n",
       "1  john.lavorato@enron.co        Re  NaN           1.0  ...  NaN   \n",
       "2   leah.arsdall@enron.co   Re: tes  NaN           1.0  ...  NaN   \n",
       "3    randall.gay@enron.co       NaN  NaN           1.0  ...  NaN   \n",
       "4     greg.piper@enron.co  Re: Hell  NaN           1.0  ...  NaN   \n",
       "\n",
       "           X-From                                               X-To X-cc  \\\n",
       "0  Phillip K Alle            Tim Belden <Tim Belden/Enron@EnronXGate  NaN   \n",
       "1  Phillip K Alle  John J Lavorato <John J Lavorato/ENRON@enronXg...  NaN   \n",
       "2  Phillip K Alle                                    Leah Van Arsdal  NaN   \n",
       "3  Phillip K Alle                                       Randall L Ga  NaN   \n",
       "4  Phillip K Alle                                          Greg Pipe  NaN   \n",
       "\n",
       "  X-bcc                                           X-Folder X-Origin  \\\n",
       "0   NaN  \\Phillip_Allen_Jan2002_1\\Allen, Phillip K.\\'Se...   Allen-   \n",
       "1   NaN  \\Phillip_Allen_Jan2002_1\\Allen, Phillip K.\\'Se...   Allen-   \n",
       "2   NaN     \\Phillip_Allen_Dec2000\\Notes Folders\\'sent mai   Allen-   \n",
       "3   NaN     \\Phillip_Allen_Dec2000\\Notes Folders\\'sent mai   Allen-   \n",
       "4   NaN     \\Phillip_Allen_Dec2000\\Notes Folders\\'sent mai   Allen-   \n",
       "\n",
       "                    X-FileName has_other_content if_forwarded  \n",
       "0  pallen (Non-Privileged).pst             False        False  \n",
       "1  pallen (Non-Privileged).pst             False        False  \n",
       "2                   pallen.nsf             False        False  \n",
       "3                   pallen.nsf             False        False  \n",
       "4                   pallen.nsf             False        False  \n",
       "\n",
       "[5 rows x 22 columns]"
      ]
     },
     "execution_count": 15,
     "metadata": {},
     "output_type": "execute_result"
    }
   ],
   "source": [
    "content_df = pd.read_csv(r'emails_cleaned.csv')\n",
    "content_df.head()"
   ]
  },
  {
   "cell_type": "code",
   "execution_count": 16,
   "metadata": {},
   "outputs": [
    {
     "name": "stdout",
     "output_type": "stream",
     "text": [
      "0                                 Here is our forecast\\n\\n \n",
      "1         Traveling to have a business meeting takes the...\n",
      "2                            test successful.  way to go!!!\n",
      "3         Randy,\\n\\n Can you send me a schedule of the s...\n",
      "4                       Let's shoot for Tuesday at 11:45.  \n",
      "                                ...                        \n",
      "517392    This is a trade with OIL-SPEC-HEDGE-NG (John L...\n",
      "517393    Some of my position is with the Alberta Term b...\n",
      "517394    2\\n\\n -----Original Message-----\\nFrom: \\tDouc...\n",
      "517395    Analyst\\t\\t\\t\\t\\tRank\\n\\nStephane Brodeur\\t\\t\\...\n",
      "517396    i think the YMCA has a class that is for peopl...\n",
      "Name: content, Length: 517397, dtype: object\n",
      "0                                 Here is our forecast\\n\\n \n",
      "1         Traveling to have a business meeting takes the...\n",
      "2                            test successful.  way to go!!!\n",
      "3         Randy,\\n\\n Can you send me a schedule of the s...\n",
      "4                       Let's shoot for Tuesday at 11:45.  \n",
      "                                ...                        \n",
      "517392    This is a trade with OIL-SPEC-HEDGE-NG (John L...\n",
      "517393    Some of my position is with the Alberta Term b...\n",
      "517394    2\\n\\n -----Original Message-----\\nFrom: \\tDouc...\n",
      "517395    Analyst\\t\\t\\t\\t\\tRank\\n\\nStephane Brodeur\\t\\t\\...\n",
      "517396    i think the YMCA has a class that is for peopl...\n",
      "Name: content, Length: 517397, dtype: object\n",
      "0                                 Here is our forecast\\n\\n \n",
      "1         Traveling to have a business meeting takes the...\n",
      "2                            test successful.  way to go!!!\n",
      "3         Randy,\\n\\n Can you send me a schedule of the s...\n",
      "4                       Let's shoot for Tuesday at 11:45.  \n",
      "                                ...                        \n",
      "517392    This is a trade with OIL-SPEC-HEDGE-NG (John L...\n",
      "517393    Some of my position is with the Alberta Term b...\n",
      "517394    2\\n\\n -----Original Message-----\\nFrom: \\tDouc...\n",
      "517395    Analyst\\t\\t\\t\\t\\tRank\\n\\nStephane Brodeur\\t\\t\\...\n",
      "517396    i think the YMCA has a class that is for peopl...\n",
      "Name: content, Length: 517397, dtype: object\n",
      "0                                 Here is our forecast\\n\\n \n",
      "1         Traveling to have a business meeting takes the...\n",
      "2                            test successful.  way to go!!!\n",
      "3         Randy,\\n\\n Can you send me a schedule of the s...\n",
      "4                       Let's shoot for Tuesday at 11:45.  \n",
      "                                ...                        \n",
      "517392    This is a trade with OIL-SPEC-HEDGE-NG (John L...\n",
      "517393    Some of my position is with the Alberta Term b...\n",
      "517394    2\\n\\n -----Original Message-----\\nFrom: \\tDouc...\n",
      "517395    Analyst\\t\\t\\t\\t\\tRank\\n\\nStephane Brodeur\\t\\t\\...\n",
      "517396    i think the YMCA has a class that is for peopl...\n",
      "Name: content, Length: 517397, dtype: object\n",
      "0                                 Here is our forecast\\n\\n \n",
      "1         Traveling to have a business meeting takes the...\n",
      "2                            test successful.  way to go!!!\n",
      "3         Randy,\\n\\n Can you send me a schedule of the s...\n",
      "4                       Let's shoot for Tuesday at 11:45.  \n",
      "                                ...                        \n",
      "517392    This is a trade with OIL-SPEC-HEDGE-NG (John L...\n",
      "517393    Some of my position is with the Alberta Term b...\n",
      "517394    2\\n\\n -----Original Message-----\\nFrom: \\tDouc...\n",
      "517395    Analyst\\t\\t\\t\\t\\tRank\\n\\nStephane Brodeur\\t\\t\\...\n",
      "517396    i think the YMCA has a class that is for peopl...\n",
      "Name: content, Length: 517397, dtype: object\n"
     ]
    }
   ],
   "source": [
    "for p in range(0,5):\n",
    "    print(content_df['content'])"
   ]
  },
  {
   "cell_type": "markdown",
   "metadata": {},
   "source": [
    "### Content Preprocessing"
   ]
  },
  {
   "cell_type": "markdown",
   "metadata": {},
   "source": [
    "Tokenization (Maybe we will have multiple tokenization methods; you can put how you wana tokenize down here)"
   ]
  },
  {
   "cell_type": "code",
   "execution_count": 17,
   "metadata": {},
   "outputs": [],
   "source": [
    "from nltk.tokenize import word_tokenize, wordpunct_tokenize\n",
    "\n",
    "# hyperparameters \n",
    "maxtokens = 200 # the maximum number of tokens per document\n",
    "maxtokenlen = 100 # the maximum length of each token"
   ]
  },
  {
   "cell_type": "code",
   "execution_count": 18,
   "metadata": {},
   "outputs": [],
   "source": [
    "# Tokenization method\n",
    "# split of white space AND punctuation $3.88 --> '3', '.', '88'\n",
    "def tokenize_2(row):\n",
    "    return wordpunct_tokenize(str(row))[:maxtokens]"
   ]
  },
  {
   "cell_type": "markdown",
   "metadata": {},
   "source": [
    "Regular Expression to remove unnecessary characters (removing \\n new lines, symbols?, this could also include links)"
   ]
  },
  {
   "cell_type": "code",
   "execution_count": 19,
   "metadata": {},
   "outputs": [],
   "source": [
    "# this covers lower() tokens\n",
    "def reg_expressions(row):\n",
    "    row = re.sub(r'[\\r\\n]', \"\", row)\n",
    "    return row"
   ]
  },
  {
   "cell_type": "markdown",
   "metadata": {},
   "source": [
    "Stop-word removal (removing unimportant words)"
   ]
  },
  {
   "cell_type": "code",
   "execution_count": 20,
   "metadata": {},
   "outputs": [
    {
     "name": "stderr",
     "output_type": "stream",
     "text": [
      "[nltk_data] Downloading package wordnet to /home/giacomo/nltk_data...\n",
      "[nltk_data]   Package wordnet is already up-to-date!\n",
      "[nltk_data] Downloading package omw-1.4 to /home/giacomo/nltk_data...\n",
      "[nltk_data]   Package omw-1.4 is already up-to-date!\n"
     ]
    }
   ],
   "source": [
    "nltk.download('wordnet')\n",
    "nltk.download('omw-1.4')\n",
    "\n",
    "stopwords = nltk.corpus.stopwords.words('english')\n",
    "# print(stopwords[:10])\n",
    "\n",
    "def stop_word_removal(row):\n",
    "    token = [token for token in row if token not in stopwords]\n",
    "    return token"
   ]
  },
  {
   "cell_type": "markdown",
   "metadata": {},
   "source": [
    "Stemming (removing endings of words, -ing, -ly...)"
   ]
  },
  {
   "cell_type": "code",
   "execution_count": 21,
   "metadata": {},
   "outputs": [],
   "source": [
    "def stemming(row):\n",
    "    port_stemmer = nltk.stem.porter.PorterStemmer()\n",
    "    token = [port_stemmer.stem(token) for token in row]\n",
    "    return token"
   ]
  },
  {
   "cell_type": "markdown",
   "metadata": {},
   "source": [
    "Lemmatization (convert into root word)"
   ]
  },
  {
   "cell_type": "code",
   "execution_count": 22,
   "metadata": {},
   "outputs": [],
   "source": [
    "def lemmatization(row):\n",
    "    lem = nltk.stem.wordnet.WordNetLemmatizer()\n",
    "    token = [lem.lemmatize(token) for token in row]\n",
    "    return token"
   ]
  },
  {
   "cell_type": "markdown",
   "metadata": {},
   "source": [
    "Final utility in preprocessing data connecting all these preprocessing techniques"
   ]
  },
  {
   "cell_type": "code",
   "execution_count": 23,
   "metadata": {},
   "outputs": [],
   "source": [
    "def utils_preprocess_text(text, flg_tokenize=1,flg_stemm=False, flg_lemm=True, flg_stopwords=True):\n",
    "    ## clean (convert to lowercase and remove punctuations and characters and then strip)\n",
    "    text = reg_expressions(text)\n",
    "\n",
    "    ## Tokenize (convert from string to list)\n",
    "    if flg_tokenize == 1:\n",
    "        text = tokenize_1(text)\n",
    "\n",
    "    elif flg_tokenize == 2:\n",
    "        text = tokenize_2(text)\n",
    "    \n",
    "    # remove Stopwords\n",
    "    if flg_stopwords == True:\n",
    "        text = stop_word_removal(text)\n",
    "        \n",
    "    ## Stemming (remove -ing, -ly, ...)\n",
    "    if flg_stemm == True:\n",
    "        text = stemming(text)\n",
    "        \n",
    "    ## Lemmatisation (convert the word into root word)\n",
    "    if flg_lemm == True:\n",
    "        text = lemmatization(text)\n",
    "            \n",
    "    ## back to string from list\n",
    "    text = \" \".join(text)\n",
    "    return text"
   ]
  },
  {
   "cell_type": "code",
   "execution_count": 24,
   "metadata": {},
   "outputs": [
    {
     "name": "stdout",
     "output_type": "stream",
     "text": [
      "0                                 Here is our forecast\\n\\n \n",
      "1         Traveling to have a business meeting takes the...\n",
      "2                            test successful.  way to go!!!\n",
      "3         Randy,\\n\\n Can you send me a schedule of the s...\n",
      "4                       Let's shoot for Tuesday at 11:45.  \n",
      "                                ...                        \n",
      "517392    This is a trade with OIL-SPEC-HEDGE-NG (John L...\n",
      "517393    Some of my position is with the Alberta Term b...\n",
      "517394    2\\n\\n -----Original Message-----\\nFrom: \\tDouc...\n",
      "517395    Analyst\\t\\t\\t\\t\\tRank\\n\\nStephane Brodeur\\t\\t\\...\n",
      "517396    i think the YMCA has a class that is for peopl...\n",
      "Name: content, Length: 517397, dtype: object\n"
     ]
    }
   ],
   "source": [
    "print(content_df[\"content\"])"
   ]
  },
  {
   "cell_type": "code",
   "execution_count": 25,
   "metadata": {},
   "outputs": [],
   "source": [
    "# content_df[\"text_clean\"] = content_df[\"content\"].apply(lambda x: utils_preprocess_text(x, flg_tokenize=2, flg_stemm=True, flg_lemm=True, flg_stopwords=True))\n",
    "# content_df\n",
    "\n",
    "# print(content_df('text_clean'))\n",
    "#print(emails_df.iloc[22,1])"
   ]
  },
  {
   "cell_type": "code",
   "execution_count": 1,
   "metadata": {},
   "outputs": [
    {
     "ename": "NameError",
     "evalue": "name 'content_df' is not defined",
     "output_type": "error",
     "traceback": [
      "\u001b[0;31m---------------------------------------------------------------------------\u001b[0m",
      "\u001b[0;31mNameError\u001b[0m                                 Traceback (most recent call last)",
      "Cell \u001b[0;32mIn [1], line 1\u001b[0m\n\u001b[0;32m----> 1\u001b[0m \u001b[39mdel\u001b[39;00m content_df\n\u001b[1;32m      2\u001b[0m gc\u001b[39m.\u001b[39mcollect()\n\u001b[1;32m      4\u001b[0m \u001b[39m#try\u001b[39;00m\n",
      "\u001b[0;31mNameError\u001b[0m: name 'content_df' is not defined"
     ]
    }
   ],
   "source": [
    "del content_df\n",
    "gc.collect()\n"
   ]
  }
 ],
 "metadata": {
  "kernelspec": {
   "display_name": "Python 3.10.8 64-bit",
   "language": "python",
   "name": "python3"
  },
  "language_info": {
   "codemirror_mode": {
    "name": "ipython",
    "version": 3
   },
   "file_extension": ".py",
   "mimetype": "text/x-python",
   "name": "python",
   "nbconvert_exporter": "python",
   "pygments_lexer": "ipython3",
   "version": "3.10.8"
  },
  "orig_nbformat": 4,
  "vscode": {
   "interpreter": {
    "hash": "e7370f93d1d0cde622a1f8e1c04877d8463912d04d973331ad4851f04de6915a"
   }
  }
 },
 "nbformat": 4,
 "nbformat_minor": 2
}
